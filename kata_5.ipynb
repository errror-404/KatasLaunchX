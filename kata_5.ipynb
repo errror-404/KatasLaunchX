{
 "cells": [
  {
   "cell_type": "markdown",
   "metadata": {},
   "source": [
    "# Ejercicio 1"
   ]
  },
  {
   "cell_type": "code",
   "execution_count": 4,
   "metadata": {},
   "outputs": [],
   "source": [
    "tierra = 149597870 #km\n",
    "jupiter = 778547200 #km"
   ]
  },
  {
   "cell_type": "code",
   "execution_count": 12,
   "metadata": {},
   "outputs": [
    {
     "name": "stdout",
     "output_type": "stream",
     "text": [
      "628949330\n",
      "390577534\n"
     ]
    }
   ],
   "source": [
    "from math import ceil\n",
    "\n",
    "diferencia = abs(tierra - jupiter)\n",
    "diferencia_en_millas = ceil(diferencia * 0.621)\n",
    "\n",
    "print(diferencia)\n",
    "print(diferencia_en_millas)\n"
   ]
  },
  {
   "cell_type": "markdown",
   "metadata": {},
   "source": [
    "# Ejercicio 2"
   ]
  },
  {
   "cell_type": "code",
   "execution_count": 38,
   "metadata": {},
   "outputs": [
    {
     "name": "stdout",
     "output_type": "stream",
     "text": [
      "Distancia: 1 km\n",
      "Distancia: 0.0 millas\n"
     ]
    }
   ],
   "source": [
    "distancia_planeta_1 = input(\"Ingresa la distancia del sol respecto al planeta 1:\")\n",
    "distancia_planeta_2 = input(\"Ingresa la distancia del sol respecto al planeta 2:\")\n",
    "\n",
    "distancia_planeta_1 = int(distancia_planeta_1)\n",
    "distancia_planeta_2 = int(distancia_planeta_2)\n",
    "\n",
    "print(f\"Distancia: {round(abs(distancia_planeta_2 - distancia_planeta_1))} km\")\n",
    "\n",
    "print(f\"Distancia: {round(abs(distancia_planeta_2 - distancia_planeta_2))* 0.621} millas\")"
   ]
  }
 ],
 "metadata": {
  "interpreter": {
   "hash": "de31efae0f0fcd8503b7cd44ac87246e04765e54678bc56a6a33a77f59b44d2b"
  },
  "kernelspec": {
   "display_name": "Python 3.10.2 64-bit",
   "language": "python",
   "name": "python3"
  },
  "language_info": {
   "codemirror_mode": {
    "name": "ipython",
    "version": 3
   },
   "file_extension": ".py",
   "mimetype": "text/x-python",
   "name": "python",
   "nbconvert_exporter": "python",
   "pygments_lexer": "ipython3",
   "version": "3.10.2"
  },
  "orig_nbformat": 4
 },
 "nbformat": 4,
 "nbformat_minor": 2
}
