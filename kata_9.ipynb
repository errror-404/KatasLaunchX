{
 "cells": [
  {
   "cell_type": "markdown",
   "metadata": {},
   "source": [
    "# Ejercicio 1\n"
   ]
  },
  {
   "cell_type": "code",
   "execution_count": 20,
   "metadata": {},
   "outputs": [],
   "source": [
    "def tanques(*args):\n",
    "    return \"Tanque 1: {0:.2f} % Tanque 2: {1:.2f} % Tanque 3: {2:.2f} %\".format(args[0], args[1], args[2])"
   ]
  },
  {
   "cell_type": "code",
   "execution_count": 8,
   "metadata": {},
   "outputs": [
    {
     "name": "stdout",
     "output_type": "stream",
     "text": [
      "Tanque 1: 3.00 Tanque 2: 6.00 Tanque 3: 90.00\n"
     ]
    }
   ],
   "source": [
    "print(tanques(3,6,90))"
   ]
  },
  {
   "cell_type": "code",
   "execution_count": 21,
   "metadata": {},
   "outputs": [],
   "source": [
    "def prom_tanques(*args):\n",
    "    print(f\"{tanques(args[0], args[1], args[2])}\")\n",
    "    return \"Promedio: {0:.2f} %\".format(sum(args)/len(args))"
   ]
  },
  {
   "cell_type": "code",
   "execution_count": 22,
   "metadata": {},
   "outputs": [
    {
     "name": "stdout",
     "output_type": "stream",
     "text": [
      "Tanque 1: 3.00 % Tanque 2: 6.00 % Tanque 3: 90.00 %\n",
      "Promedio: 33.00 %\n"
     ]
    }
   ],
   "source": [
    "print(prom_tanques(3,6,90))"
   ]
  },
  {
   "cell_type": "markdown",
   "metadata": {},
   "source": [
    "# Ejercicio 2"
   ]
  },
  {
   "cell_type": "code",
   "execution_count": 33,
   "metadata": {},
   "outputs": [],
   "source": [
    "def informe_mision(mision, hora_lanzamiento, destino, tanque_externo, tanque_interno):\n",
    "    return f\"\"\"\n",
    "    Mision: {mision}\n",
    "    Hora de lanzamiento: {hora_lanzamiento}\n",
    "    Destino: {destino}\n",
    "    Tanque externo: {tanque_externo}\n",
    "    Tanque interno: {tanque_interno}\n",
    "    \"\"\""
   ]
  },
  {
   "cell_type": "code",
   "execution_count": 34,
   "metadata": {},
   "outputs": [
    {
     "data": {
      "text/plain": [
       "'\\n    Mision: Despegar\\n    Hora de lanzamiento: 10:00\\n    Destino: Mexico\\n    Tanque externo: 100\\n    Tanque interno: 100\\n    '"
      ]
     },
     "execution_count": 34,
     "metadata": {},
     "output_type": "execute_result"
    }
   ],
   "source": [
    "informe_mision('Despegar', '10:00','Mexico',100, 100)"
   ]
  },
  {
   "cell_type": "code",
   "execution_count": 37,
   "metadata": {},
   "outputs": [],
   "source": [
    "def informe_mision(mision, hora_lanzamiento, destinos, **tanques):\n",
    "    reporte = f\"\"\"\n",
    "    Mision: {mision}\n",
    "    Hora de lanzamiento: {hora_lanzamiento}\n",
    "    Destinos: {destinos}\n",
    "    \"\"\"\n",
    "    for tanque, reserva in tanques.items():\n",
    "        reporte += f\"\\nTanque {tanque}: {reserva} %\"\n",
    "    return reporte"
   ]
  },
  {
   "cell_type": "code",
   "execution_count": 38,
   "metadata": {},
   "outputs": [
    {
     "name": "stdout",
     "output_type": "stream",
     "text": [
      "\n",
      "    Mision: Despegar\n",
      "    Hora de lanzamiento: 10:00\n",
      "    Destinos: Mexico\n",
      "    \n",
      "Tanque tanque_externo: 100 %\n",
      "Tanque tanque_interno: 100 %\n"
     ]
    }
   ],
   "source": [
    "print(informe_mision('Despegar', '10:00','Mexico',tanque_externo=100, tanque_interno=100))"
   ]
  }
 ],
 "metadata": {
  "interpreter": {
   "hash": "de31efae0f0fcd8503b7cd44ac87246e04765e54678bc56a6a33a77f59b44d2b"
  },
  "kernelspec": {
   "display_name": "Python 3.10.2 64-bit",
   "language": "python",
   "name": "python3"
  },
  "language_info": {
   "codemirror_mode": {
    "name": "ipython",
    "version": 3
   },
   "file_extension": ".py",
   "mimetype": "text/x-python",
   "name": "python",
   "nbconvert_exporter": "python",
   "pygments_lexer": "ipython3",
   "version": "3.10.2"
  },
  "orig_nbformat": 4
 },
 "nbformat": 4,
 "nbformat_minor": 2
}
