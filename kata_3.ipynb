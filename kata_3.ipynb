{
 "cells": [
  {
   "cell_type": "markdown",
   "metadata": {},
   "source": [
    "# Ejercicio 1\n",
    "\n",
    "Para este ejercicio, escribirás una lógica condicional que imprima una advertencia si un asteroide se acerca a la Tierra demasiado rápido. La velocidad del asteroide varía dependiendo de lo cerca que esté del sol, y cualquier velocidad superior a 25 kilómetros por segundo (km/s) merece una advertencia.\n",
    "\n",
    "Un asteroide se acerca, y viaja a una velocidad de 49 km/s."
   ]
  },
  {
   "cell_type": "code",
   "execution_count": 3,
   "metadata": {},
   "outputs": [
    {
     "name": "stdout",
     "output_type": "stream",
     "text": [
      "Advertencia asteroide acercandose a la tierra\n"
     ]
    }
   ],
   "source": [
    "velAsteroide = 49\n",
    "\n",
    "if velAsteroide > 25:\n",
    "    print(\"Advertencia asteroide acercandose a la tierra\")\n",
    "else:\n",
    "    print(\"Continue con su dia\")"
   ]
  },
  {
   "cell_type": "markdown",
   "metadata": {},
   "source": [
    "# Ejercicio 2\n",
    "\n",
    "Si un asteroide entra en la atmósfera de la Tierra a una velocidad mayor o igual a 20 km/s, a veces produce un rayo de luz que se puede ver desde la Tierra. Escribe la lógica condicional que usa declaraciones if, else, y elif para alertar a las personas de todo el mundo que deben buscar un asteroide en el cielo.\n",
    "\n",
    "¡Hay uno que se dirige a la tierra ahora a una velocidad de 19 km/s!"
   ]
  },
  {
   "cell_type": "code",
   "execution_count": 4,
   "metadata": {},
   "outputs": [
    {
     "name": "stdout",
     "output_type": "stream",
     "text": [
      "El asteroide no es lo suficientemente rapido para producir un rayo\n"
     ]
    }
   ],
   "source": [
    "Asteroide = 19\n",
    "\n",
    "if Asteroide > 20:\n",
    "    print(\"Alerta busquen el rayo del asteroide\")\n",
    "elif Asteroide == 29:\n",
    "    print(\"Alerta busquen el rayo del asteroide\")\n",
    "else:\n",
    "    print(\"El asteroide no es lo suficientemente rapido para producir un rayo\")\n"
   ]
  },
  {
   "cell_type": "markdown",
   "metadata": {},
   "source": [
    "# Ejercicio 3\n",
    "\n",
    "Usando toda esta información, escribe un programa que emita la advertencia o información correcta a la gente de la Tierra, según la velocidad y el tamaño de un asteroide. Utiliza instrucciones if, else, y elif, así como los operadores and y or."
   ]
  },
  {
   "cell_type": "code",
   "execution_count": 5,
   "metadata": {},
   "outputs": [
    {
     "name": "stdout",
     "output_type": "stream",
     "text": [
      "Alerta!! Fatal impacto de asteroide\n"
     ]
    }
   ],
   "source": [
    "velAsteroide = 49\n",
    "tamAsteroide = 25\n",
    "\n",
    "if velAsteroide > 20 or tamAsteroide > 25:\n",
    "    print(\"Alerta!! Fatal impacto de asteroide\")\n",
    "elif velAsteroide >= 20 and velAsteroide <= 25:\n",
    "    print(\"Miren arriba!! El asteroide provoco un rayo\")\n",
    "else:\n",
    "    print(\"No hay peligro\")\n"
   ]
  }
 ],
 "metadata": {
  "interpreter": {
   "hash": "de31efae0f0fcd8503b7cd44ac87246e04765e54678bc56a6a33a77f59b44d2b"
  },
  "kernelspec": {
   "display_name": "Python 3.10.2 64-bit",
   "language": "python",
   "name": "python3"
  },
  "language_info": {
   "codemirror_mode": {
    "name": "ipython",
    "version": 3
   },
   "file_extension": ".py",
   "mimetype": "text/x-python",
   "name": "python",
   "nbconvert_exporter": "python",
   "pygments_lexer": "ipython3",
   "version": "3.10.2"
  },
  "orig_nbformat": 4
 },
 "nbformat": 4,
 "nbformat_minor": 2
}
